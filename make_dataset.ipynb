{
 "cells": [
  {
   "cell_type": "code",
   "execution_count": 21,
   "metadata": {},
   "outputs": [],
   "source": [
    "import argparse\n",
    "import glob\n",
    "import traceback\n",
    "import pandas as pd\n",
    "import os\n",
    "import cv2\n",
    "import numpy as np\n",
    "from sklearn.model_selection import train_test_split\n",
    "from tqdm import tqdm\n",
    "\n",
    "root = \"csvs\"\n",
    "output = \"dataset\"\n",
    "ratio = [0.8, 0.1, 0.1]\n",
    "\n",
    "\n",
    "csv_files = glob.glob(os.path.join(root, '*.csv'))\n",
    "df_list = [pd.read_csv(f) for f in csv_files]\n",
    "data = pd.concat(df_list)\n",
    "\n"
   ]
  },
  {
   "cell_type": "code",
   "execution_count": 22,
   "metadata": {},
   "outputs": [
    {
     "name": "stdout",
     "output_type": "stream",
     "text": [
      "163646\n",
      "148930\n"
     ]
    },
    {
     "data": {
      "text/html": [
       "<div>\n",
       "<style scoped>\n",
       "    .dataframe tbody tr th:only-of-type {\n",
       "        vertical-align: middle;\n",
       "    }\n",
       "\n",
       "    .dataframe tbody tr th {\n",
       "        vertical-align: top;\n",
       "    }\n",
       "\n",
       "    .dataframe thead th {\n",
       "        text-align: right;\n",
       "    }\n",
       "</style>\n",
       "<table border=\"1\" class=\"dataframe\">\n",
       "  <thead>\n",
       "    <tr style=\"text-align: right;\">\n",
       "      <th></th>\n",
       "      <th>Unnamed: 0</th>\n",
       "      <th>scale</th>\n",
       "      <th>path</th>\n",
       "      <th>psnr</th>\n",
       "      <th>ssim</th>\n",
       "      <th>lpips</th>\n",
       "      <th>chamfer</th>\n",
       "    </tr>\n",
       "  </thead>\n",
       "  <tbody>\n",
       "    <tr>\n",
       "      <th>0</th>\n",
       "      <td>0</td>\n",
       "      <td>(1088, 2176)</td>\n",
       "      <td>/root/autodl-tmp/animedata/anime_dataset/1</td>\n",
       "      <td>25.975638</td>\n",
       "      <td>0.924310</td>\n",
       "      <td>0.13430</td>\n",
       "      <td>0.000069</td>\n",
       "    </tr>\n",
       "    <tr>\n",
       "      <th>1</th>\n",
       "      <td>1</td>\n",
       "      <td>(1088, 2176)</td>\n",
       "      <td>/root/autodl-tmp/animedata/anime_dataset/10</td>\n",
       "      <td>32.397934</td>\n",
       "      <td>0.978068</td>\n",
       "      <td>0.07196</td>\n",
       "      <td>0.000027</td>\n",
       "    </tr>\n",
       "    <tr>\n",
       "      <th>2</th>\n",
       "      <td>2</td>\n",
       "      <td>(1088, 2176)</td>\n",
       "      <td>/root/autodl-tmp/animedata/anime_dataset/100</td>\n",
       "      <td>25.214299</td>\n",
       "      <td>0.951444</td>\n",
       "      <td>0.18300</td>\n",
       "      <td>0.000095</td>\n",
       "    </tr>\n",
       "    <tr>\n",
       "      <th>3</th>\n",
       "      <td>3</td>\n",
       "      <td>(1088, 2176)</td>\n",
       "      <td>/root/autodl-tmp/animedata/anime_dataset/1000</td>\n",
       "      <td>25.707103</td>\n",
       "      <td>0.924513</td>\n",
       "      <td>0.19510</td>\n",
       "      <td>0.000104</td>\n",
       "    </tr>\n",
       "    <tr>\n",
       "      <th>4</th>\n",
       "      <td>4</td>\n",
       "      <td>(1088, 2176)</td>\n",
       "      <td>/root/autodl-tmp/animedata/anime_dataset/1001</td>\n",
       "      <td>27.837862</td>\n",
       "      <td>0.968125</td>\n",
       "      <td>0.11035</td>\n",
       "      <td>0.000070</td>\n",
       "    </tr>\n",
       "  </tbody>\n",
       "</table>\n",
       "</div>"
      ],
      "text/plain": [
       "   Unnamed: 0         scale                                           path  \\\n",
       "0           0  (1088, 2176)     /root/autodl-tmp/animedata/anime_dataset/1   \n",
       "1           1  (1088, 2176)    /root/autodl-tmp/animedata/anime_dataset/10   \n",
       "2           2  (1088, 2176)   /root/autodl-tmp/animedata/anime_dataset/100   \n",
       "3           3  (1088, 2176)  /root/autodl-tmp/animedata/anime_dataset/1000   \n",
       "4           4  (1088, 2176)  /root/autodl-tmp/animedata/anime_dataset/1001   \n",
       "\n",
       "        psnr      ssim    lpips   chamfer  \n",
       "0  25.975638  0.924310  0.13430  0.000069  \n",
       "1  32.397934  0.978068  0.07196  0.000027  \n",
       "2  25.214299  0.951444  0.18300  0.000095  \n",
       "3  25.707103  0.924513  0.19510  0.000104  \n",
       "4  27.837862  0.968125  0.11035  0.000070  "
      ]
     },
     "execution_count": 22,
     "metadata": {},
     "output_type": "execute_result"
    }
   ],
   "source": [
    "\n",
    "# assert index in ['psnr', 'ssim', 'lpips', 'chamfer']\n",
    "# ascending = True if index in ['lpips', 'chamfer'] else False\n",
    "\n",
    "index = \"lpips\"\n",
    "\n",
    "# 1. remove data where index is bigger than 0.2\n",
    "print(len(data))\n",
    "data = data[data[index] < 0.2]\n",
    "print(len(data))\n",
    "\n",
    "data.head()\n"
   ]
  },
  {
   "cell_type": "code",
   "execution_count": 23,
   "metadata": {},
   "outputs": [
    {
     "name": "stdout",
     "output_type": "stream",
     "text": [
      "16708\n",
      "16584\n",
      "0.000484111011111111\n"
     ]
    }
   ],
   "source": [
    "df_var = data.groupby(['path']).agg({index: 'var'})\n",
    "df_var.reset_index(inplace=True)\n",
    "print(len(df_var))\n",
    "\n",
    "# 2.1 remove data where var > 5e-4\n",
    "df_var = df_var[df_var[index] < 5e-4]\n",
    "print(len(df_var))\n",
    "\n",
    "print(df_var[index].max())"
   ]
  },
  {
   "cell_type": "code",
   "execution_count": 24,
   "metadata": {},
   "outputs": [
    {
     "name": "stdout",
     "output_type": "stream",
     "text": [
      "16584\n"
     ]
    }
   ],
   "source": [
    "df_var.sort_values(by=[index], ascending=True, inplace=True)\n",
    "df_var.head()\n",
    "\n",
    "print(len(df_var))\n",
    "\n",
    "# 3.1 remove data with max var and min var\n",
    "# df_var = df_var.iloc[1500:-500]\n",
    "# print(len(df_var))\n",
    "\n",
    "\n"
   ]
  },
  {
   "cell_type": "code",
   "execution_count": 28,
   "metadata": {},
   "outputs": [
    {
     "name": "stdout",
     "output_type": "stream",
     "text": [
      "16584\n",
      "16584\n"
     ]
    }
   ],
   "source": [
    "ascending = True\n",
    "\n",
    "data.sort_values(by=[index, 'path'], ascending=ascending, inplace=True)\n",
    "\n",
    "data.drop_duplicates(subset='path', keep='first', inplace=True)\n",
    "\n",
    "print(len(data))\n",
    "\n",
    "# 2.2: remove data\n",
    "data = data[data['path'].isin(df_var['path'])]\n",
    "\n",
    "# 3 mark data var < 5e-7, make scale column to 'any'\n",
    "low_var_index = df_var[df_var['lpips'] < 5e-7].index\n",
    "data.loc[data.index.isin(low_var_index), 'scale'] = \"any\"\n",
    "\n",
    "print(len(data))\n"
   ]
  },
  {
   "cell_type": "code",
   "execution_count": 29,
   "metadata": {},
   "outputs": [],
   "source": [
    "# data to csv data_cleaned.csv\n",
    "data.to_csv(\"data_cleaned.csv\")"
   ]
  },
  {
   "cell_type": "code",
   "execution_count": 30,
   "metadata": {},
   "outputs": [
    {
     "name": "stderr",
     "output_type": "stream",
     "text": [
      "13267it [00:09, 1343.08it/s]\n",
      "1658it [00:05, 286.09it/s]\n",
      "1659it [00:01, 912.36it/s] \n",
      "3it [00:17,  5.90s/it]\n"
     ]
    }
   ],
   "source": [
    "train, test = train_test_split(data, train_size=ratio[0], random_state=42)\n",
    "val, test = train_test_split(test, train_size=ratio[1] / (ratio[1] + ratio[2]), random_state=42)\n",
    "\n",
    "for dataset, name in tqdm(zip([train, val, test], ['train', 'val', 'test'])):\n",
    "    for _, row in tqdm(dataset.iterrows()):\n",
    "        \n",
    "        src_path = row['path']\n",
    "        scale = row['scale'].replace(\",\", \"x\").replace(\" \", \"\").replace(\"(\", \"\").replace(\")\", \"\")\n",
    "        link_name = f\"{'_'.join(row['path'].split('/')[-2:])}\"\n",
    "        link_path_dir = os.path.join(output, name, scale)\n",
    "        os.makedirs(link_path_dir, exist_ok=True)\n",
    "        link_path = os.path.join(link_path_dir, link_name)\n",
    "        \n",
    "        # link src_path dir to link_path dir\n",
    "        if not os.path.exists(link_path):\n",
    "            try:\n",
    "                os.symlink(src_path, link_path)\n",
    "            except:\n",
    "                print(f\"Error creating symlink for {src_path} to {link_path}, {traceback.format_exc()}\")\n",
    "        \n",
    "        # img, scale = blend_images(row['path'], row['scale'])\n",
    "        # if img is not None:\n",
    "        #     folder_path = os.path.join(output, name, scale)\n",
    "        #     os.makedirs(folder_path, exist_ok=True)\n",
    "        #     file_name = f\"{'_'.join(row['path'].split('/')[-2:])}.jpg\"\n",
    "        #     cv2.imwrite(os.path.join(folder_path, file_name), img)"
   ]
  },
  {
   "cell_type": "code",
   "execution_count": null,
   "metadata": {},
   "outputs": [],
   "source": [
    "\n"
   ]
  }
 ],
 "metadata": {
  "kernelspec": {
   "display_name": "base",
   "language": "python",
   "name": "python3"
  },
  "language_info": {
   "codemirror_mode": {
    "name": "ipython",
    "version": 3
   },
   "file_extension": ".py",
   "mimetype": "text/x-python",
   "name": "python",
   "nbconvert_exporter": "python",
   "pygments_lexer": "ipython3",
   "version": "3.8.10"
  }
 },
 "nbformat": 4,
 "nbformat_minor": 2
}
